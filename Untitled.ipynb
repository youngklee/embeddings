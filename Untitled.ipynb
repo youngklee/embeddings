{
 "cells": [
  {
   "cell_type": "code",
   "execution_count": 8,
   "metadata": {},
   "outputs": [
    {
     "name": "stdout",
     "output_type": "stream",
     "text": [
      "Extracting /data/mnist\\train-images-idx3-ubyte.gz\n",
      "Extracting /data/mnist\\train-labels-idx1-ubyte.gz\n",
      "Extracting /data/mnist\\t10k-images-idx3-ubyte.gz\n",
      "Extracting /data/mnist\\t10k-labels-idx1-ubyte.gz\n",
      "Accuracy 0.9167\n"
     ]
    }
   ],
   "source": [
    "import numpy as np\n",
    "import tensorflow as tf\n",
    "from tensorflow.examples.tutorials.mnist import input_data\n",
    "\n",
    "learning_rate = 0.01\n",
    "batch_size = 64\n",
    "n_epochs = 25\n",
    "\n",
    "dataset = tf.data.Dataset.from_tensor_slices((x, y))\n",
    "\n",
    "X = tf.placeholder(tf.float32, [batch_size, 3])\n",
    "Y = tf.placeholder(tf.float32, [batch_size, 5])\n",
    "\n",
    "INPUT_SIZE = 3\n",
    "EMBED_SIZE = 2\n",
    "\n",
    "embed_matrix = tf.Variable(tf.random_uniform([INPUT_SIZE, EMBED_SIZE], -1.0, 1.0), name='embed_matrix')\n",
    "\n",
    "embed = tf.nn.embedding_lookup(embed_matrix, X, name='embed')\n",
    "\n",
    "w = tf.Variable(tf.random_normal(shape=[EMBED_SIZE, 5], stddev=0.01), name=\"weights\")\n",
    "b = tf.Variable(tf.zeros([1, 5]), name=\"bias\")\n",
    "\n",
    "logits = tf.matmul(embed, w) + b\n",
    "\n",
    "entropy = tf.nn.softmax_cross_entropy_with_logits(logits=logits, labels=Y)\n",
    "loss = tf.reduce_mean(entropy)\n",
    "\n",
    "optimizer = tf.train.AdamOptimizer(learning_rate=learning_rate).minimize(loss)\n",
    "\n",
    "init = tf.global_variables_initializer()\n",
    "with tf.Session() as sess:\n",
    "    sess.run(init)\n",
    "    n_batches = int(MNIST.train.num_examples/batch_size)\n",
    "    for i in range(n_epochs): # train the model n_epochs times\n",
    "        for _ in range(n_batches):\n",
    "            X_batch, Y_batch = MNIST.train.next_batch(batch_size)\n",
    "            sess.run([optimizer, loss], feed_dict={X: X_batch, Y:Y_batch})\n",
    "            \n",
    "    n_batches = int(MNIST.test.num_examples/batch_size)\n",
    "    total_correct_preds = 0\n",
    "    for i in range(n_batches):\n",
    "        X_batch, Y_batch = MNIST.test.next_batch(batch_size)\n",
    "        _, loss_batch, logits_batch = sess.run([optimizer, loss, logits],\n",
    "        feed_dict={X: X_batch, Y:Y_batch})\n",
    "        preds = tf.nn.softmax(logits_batch)\n",
    "        correct_preds = tf.equal(tf.argmax(preds, 1), tf.argmax(Y_batch, 1))\n",
    "        accuracy = tf.reduce_sum(tf.cast(correct_preds, tf.float32))\n",
    "        total_correct_preds += sess.run(accuracy)\n",
    "\n",
    "    print(\"Accuracy {0}\".format(total_correct_preds/MNIST.test.num_examples))\n"
   ]
  },
  {
   "cell_type": "code",
   "execution_count": null,
   "metadata": {},
   "outputs": [],
   "source": []
  }
 ],
 "metadata": {
  "kernelspec": {
   "display_name": "Python 3",
   "language": "python",
   "name": "python3"
  },
  "language_info": {
   "codemirror_mode": {
    "name": "ipython",
    "version": 3
   },
   "file_extension": ".py",
   "mimetype": "text/x-python",
   "name": "python",
   "nbconvert_exporter": "python",
   "pygments_lexer": "ipython3",
   "version": "3.6.7"
  }
 },
 "nbformat": 4,
 "nbformat_minor": 2
}
